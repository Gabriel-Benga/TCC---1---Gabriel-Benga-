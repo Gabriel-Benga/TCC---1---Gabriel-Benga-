{
 "cells": [
  {
   "cell_type": "code",
   "execution_count": 1,
   "id": "0af6afd5",
   "metadata": {},
   "outputs": [
    {
     "name": "stdout",
     "output_type": "stream",
     "text": [
      "Requirement already satisfied: opencv-python in d:\\scoped_dir972_342441664\\anacondapy\\lib\\site-packages (4.8.1.78)\n",
      "Requirement already satisfied: numpy>=1.17.0 in d:\\scoped_dir972_342441664\\anacondapy\\lib\\site-packages (from opencv-python) (1.26.1)\n",
      "Note: you may need to restart the kernel to use updated packages.\n"
     ]
    }
   ],
   "source": [
    "pip install opencv-python"
   ]
  },
  {
   "cell_type": "code",
   "execution_count": 2,
   "id": "3e33e305",
   "metadata": {},
   "outputs": [
    {
     "name": "stdout",
     "output_type": "stream",
     "text": [
      "Requirement already satisfied: gTTS in d:\\scoped_dir972_342441664\\anacondapy\\lib\\site-packages (2.3.2)\n",
      "Requirement already satisfied: click<8.2,>=7.1 in d:\\scoped_dir972_342441664\\anacondapy\\lib\\site-packages (from gTTS) (8.0.4)\n",
      "Requirement already satisfied: requests<3,>=2.27 in d:\\scoped_dir972_342441664\\anacondapy\\lib\\site-packages (from gTTS) (2.27.1)\n",
      "Requirement already satisfied: colorama in d:\\scoped_dir972_342441664\\anacondapy\\lib\\site-packages (from click<8.2,>=7.1->gTTS) (0.4.4)\n",
      "Requirement already satisfied: charset-normalizer~=2.0.0 in d:\\scoped_dir972_342441664\\anacondapy\\lib\\site-packages (from requests<3,>=2.27->gTTS) (2.0.4)\n",
      "Requirement already satisfied: urllib3<1.27,>=1.21.1 in d:\\scoped_dir972_342441664\\anacondapy\\lib\\site-packages (from requests<3,>=2.27->gTTS) (1.26.9)\n",
      "Requirement already satisfied: certifi>=2017.4.17 in d:\\scoped_dir972_342441664\\anacondapy\\lib\\site-packages (from requests<3,>=2.27->gTTS) (2021.10.8)\n",
      "Requirement already satisfied: idna<4,>=2.5 in d:\\scoped_dir972_342441664\\anacondapy\\lib\\site-packages (from requests<3,>=2.27->gTTS) (3.3)\n",
      "Note: you may need to restart the kernel to use updated packages.\n"
     ]
    }
   ],
   "source": [
    "pip install gTTS"
   ]
  },
  {
   "cell_type": "code",
   "execution_count": 3,
   "id": "0bfa094f",
   "metadata": {},
   "outputs": [
    {
     "name": "stdout",
     "output_type": "stream",
     "text": [
      "Requirement already satisfied: pytesseract in d:\\scoped_dir972_342441664\\anacondapy\\lib\\site-packages (0.3.10)\n",
      "Requirement already satisfied: packaging>=21.3 in d:\\scoped_dir972_342441664\\anacondapy\\lib\\site-packages (from pytesseract) (21.3)\n",
      "Requirement already satisfied: Pillow>=8.0.0 in d:\\scoped_dir972_342441664\\anacondapy\\lib\\site-packages (from pytesseract) (9.0.1)\n",
      "Requirement already satisfied: pyparsing!=3.0.5,>=2.0.2 in d:\\scoped_dir972_342441664\\anacondapy\\lib\\site-packages (from packaging>=21.3->pytesseract) (3.0.4)\n",
      "Note: you may need to restart the kernel to use updated packages.\n"
     ]
    }
   ],
   "source": [
    "pip install pytesseract"
   ]
  },
  {
   "cell_type": "code",
   "execution_count": 4,
   "id": "acd65124",
   "metadata": {},
   "outputs": [
    {
     "name": "stdout",
     "output_type": "stream",
     "text": [
      "Requirement already satisfied: numpy in d:\\scoped_dir972_342441664\\anacondapy\\lib\\site-packages (1.26.1)\n",
      "Note: you may need to restart the kernel to use updated packages.\n"
     ]
    }
   ],
   "source": [
    "pip install -U numpy"
   ]
  },
  {
   "cell_type": "code",
   "execution_count": 5,
   "id": "7e2edc61",
   "metadata": {},
   "outputs": [],
   "source": [
    "import cv2\n",
    "import pytesseract\n",
    "from gtts import gTTS\n",
    "import os\n",
    "import time"
   ]
  },
  {
   "cell_type": "code",
   "execution_count": 6,
   "id": "b7509e57",
   "metadata": {},
   "outputs": [],
   "source": [
    "#config do tesseract\n",
    "pytesseract.pytesseract.tesseract_cmd = r'C:\\Users\\Gabriel Benga\\OneDrive\\Documentos\\python--TCC\\TCC\\tesseract tudo\\tesseract.exe'"
   ]
  },
  {
   "cell_type": "code",
   "execution_count": 7,
   "id": "45f777f2",
   "metadata": {},
   "outputs": [],
   "source": [
    "# Função para capturar imagem da webcam e converter texto em fala\n",
    "def capturar_texto_fala():\n",
    "    # Ligando a webcam\n",
    "    cap = cv2.VideoCapture(1, cv2.CAP_DSHOW)\n",
    "\n",
    "    while True:\n",
    "        # Capture um quadro da webcam\n",
    "        ret, frame = cap.read()\n",
    "\n",
    "        # Use o Tesseract para extrair texto da imagem\n",
    "        texto = pytesseract.image_to_string(frame, lang='por')  # Pode ser necessário especificar a linguagem correta\n",
    "\n",
    "        # Verifique se o texto foi detectado\n",
    "        if texto:\n",
    "            # Exiba o texto na janela da webcam\n",
    "            cv2.putText(frame, texto, (10, 30), cv2.FONT_HERSHEY_SIMPLEX, 1, (0, 0, 255), 2)\n",
    "            #cv2.imshow(\"Texto da Webcam\", frame)\n",
    "\n",
    "            # Converta o texto em fala usando gTTS\n",
    "            tts = gTTS(texto, lang='pt')\n",
    "            tts.save(\"output.mp3\") #salva em um arquivo mp3\n",
    "\n",
    "            # Função que transforma texto em voz\n",
    "            os.system(\"start output.mp3\")\n",
    "\n",
    "        # Para pausar a leitura é necessario apertar \",\"\n",
    "        if cv2.waitKey(1) & 0xFF == ord(','):\n",
    "            break\n",
    "\n",
    "    # Libere a webcam e feche a janela\n",
    "    #cap.release()\n",
    "    #cv2.destroyAllWindows()"
   ]
  },
  {
   "cell_type": "code",
   "execution_count": null,
   "id": "643c0a7d",
   "metadata": {},
   "outputs": [],
   "source": [
    "# Chame a função principal\n",
    "if __name__ == \"__main__\":\n",
    "    capturar_texto_fala()"
   ]
  },
  {
   "cell_type": "code",
   "execution_count": null,
   "id": "9c63ce05",
   "metadata": {},
   "outputs": [],
   "source": []
  },
  {
   "cell_type": "code",
   "execution_count": null,
   "id": "bf591ba7",
   "metadata": {},
   "outputs": [],
   "source": []
  }
 ],
 "metadata": {
  "kernelspec": {
   "display_name": "Python 3 (ipykernel)",
   "language": "python",
   "name": "python3"
  },
  "language_info": {
   "codemirror_mode": {
    "name": "ipython",
    "version": 3
   },
   "file_extension": ".py",
   "mimetype": "text/x-python",
   "name": "python",
   "nbconvert_exporter": "python",
   "pygments_lexer": "ipython3",
   "version": "3.9.12"
  }
 },
 "nbformat": 4,
 "nbformat_minor": 5
}
