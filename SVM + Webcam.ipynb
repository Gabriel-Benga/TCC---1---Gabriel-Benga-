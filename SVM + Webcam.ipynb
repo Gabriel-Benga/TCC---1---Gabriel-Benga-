{
 "cells": [
  {
   "cell_type": "code",
   "execution_count": 1,
   "id": "ee1b35be",
   "metadata": {},
   "outputs": [],
   "source": [
    "import cv2\n",
    "import numpy as np\n",
    "from joblib import load"
   ]
  },
  {
   "cell_type": "markdown",
   "id": "0be4517d",
   "metadata": {},
   "source": [
    "### Função de pré processa,emto das imagens \n",
    "Aqui a dimensão daas imagens precisa ser igual a do treinamento do modeo SVM (.reshape)"
   ]
  },
  {
   "cell_type": "code",
   "execution_count": 2,
   "id": "92af0b5d",
   "metadata": {},
   "outputs": [],
   "source": [
    "def preprocess_image(image, img_size=(28, 28)):\n",
    "    # comvertendo a imagem pra escala de cinza\n",
    "    gray_image = cv2.cvtColor(image, cv2.COLOR_BGR2GRAY)\n",
    "    # redimencionando a imagem para o tamanho usado durante o treinamento\n",
    "    resized_image = cv2.resize(gray_image, img_size)\n",
    "    # Normalize os valores dos pixels para o intervalo [0, 1]\n",
    "    normalized_image = resized_image / 255.0\n",
    "    # Achate a imagem para um vetor de 784 características (28*28)\n",
    "    flattened_image = normalized_image.flatten()\n",
    "    # Redimensione a imagem para o formato esperado pelo SVM (1, 784)\n",
    "    reshaped_image = flattened_image.reshape(1, -1)\n",
    "    return reshaped_image"
   ]
  },
  {
   "cell_type": "markdown",
   "id": "c9e95f95",
   "metadata": {},
   "source": [
    "### Funçãoo de carregamento do modelo SVM\n",
    "O modelo foi feito em outro caderno, então é necessario fazer uma função para chamar esse modelo "
   ]
  },
  {
   "cell_type": "code",
   "execution_count": 3,
   "id": "a142f5d0",
   "metadata": {},
   "outputs": [],
   "source": [
    "def load_svm_model(model_path='svm_modelo_libras.joblib'):\n",
    "    # Carregue o modelo treinado do sistema de arquivos\n",
    "    return load(model_path)\n"
   ]
  },
  {
   "cell_type": "markdown",
   "id": "71e0ec08",
   "metadata": {},
   "source": [
    "### Função principal\n",
    "Agora, aqui está a função para criar a estrutura principal do aplicativo que irá capturar imagens da webcam, pré-processá-las, e usar o modelo SVM para fazer previsões em tempo real"
   ]
  },
  {
   "cell_type": "code",
   "execution_count": 4,
   "id": "164c5caa",
   "metadata": {},
   "outputs": [],
   "source": [
    "def main():\n",
    "    # carregando meu modelo SVM já treinado\n",
    "    clf = load_svm_model()\n",
    "\n",
    "    # Iniciar a captura de vídeo\n",
    "    cap = cv2.VideoCapture(1, cv2.CAP_DSHOW)\n",
    "\n",
    "    if not cap.isOpened():\n",
    "        print(\"Erro: Não foi possível abrir a webcam.\")\n",
    "        return\n",
    "\n",
    "    try:\n",
    "        while True:\n",
    "            # Ler um quadro da câmera\n",
    "            ret, frame = cap.read()\n",
    "            if not ret:\n",
    "                print(\"Erro: Não foi possível ler dados da webcam.\")\n",
    "                break\n",
    "\n",
    "            # Pré-processamento do quadro capturado\n",
    "            preprocessed_frame = preprocess_image(frame)\n",
    "\n",
    "            # Realizar previsão usando o modelo SVM\n",
    "            prediction = clf.predict(preprocessed_frame)\n",
    "\n",
    "            # Exibir o resultado da previsão na imagem capturada\n",
    "            label = str(prediction[0])  # Vamos assumir que a previsão é um número ou string\n",
    "            cv2.putText(frame, label, (20, 30), cv2.FONT_HERSHEY_SIMPLEX, 1, (0, 255, 0), 2)\n",
    "\n",
    "            # Mostrar o quadro capturado\n",
    "            cv2.imshow('Webcam', frame)\n",
    "\n",
    "            # Sair com 'q'\n",
    "            if cv2.waitKey(1) & 0xFF == ord('q'):\n",
    "                break\n",
    "    finally:\n",
    "        # Quando tudo estiver feito, liberar a captura\n",
    "        cap.release()\n",
    "        cv2.destroyAllWindows()\n"
   ]
  },
  {
   "cell_type": "code",
   "execution_count": 7,
   "id": "1587c396",
   "metadata": {},
   "outputs": [
    {
     "name": "stdout",
     "output_type": "stream",
     "text": [
      "Erro: Não foi possível abrir a webcam.\n"
     ]
    }
   ],
   "source": [
    "if __name__ == \"__main__\":\n",
    "    main()"
   ]
  },
  {
   "cell_type": "code",
   "execution_count": null,
   "id": "1d891601",
   "metadata": {},
   "outputs": [],
   "source": []
  },
  {
   "cell_type": "code",
   "execution_count": null,
   "id": "d5ae67ec",
   "metadata": {},
   "outputs": [],
   "source": []
  }
 ],
 "metadata": {
  "kernelspec": {
   "display_name": "Python 3 (ipykernel)",
   "language": "python",
   "name": "python3"
  },
  "language_info": {
   "codemirror_mode": {
    "name": "ipython",
    "version": 3
   },
   "file_extension": ".py",
   "mimetype": "text/x-python",
   "name": "python",
   "nbconvert_exporter": "python",
   "pygments_lexer": "ipython3",
   "version": "3.9.12"
  }
 },
 "nbformat": 4,
 "nbformat_minor": 5
}
