{
 "cells": [
  {
   "cell_type": "code",
   "execution_count": 1,
   "id": "42bb5ffe",
   "metadata": {},
   "outputs": [
    {
     "name": "stdout",
     "output_type": "stream",
     "text": [
      "Requirement already satisfied: scipy in d:\\scoped_dir972_342441664\\anacondapy\\lib\\site-packages (1.11.3)\n",
      "Requirement already satisfied: numpy<1.28.0,>=1.21.6 in d:\\scoped_dir972_342441664\\anacondapy\\lib\\site-packages (from scipy) (1.26.1)\n",
      "Note: you may need to restart the kernel to use updated packages.\n"
     ]
    }
   ],
   "source": [
    "pip install --upgrade scipy --user"
   ]
  },
  {
   "cell_type": "code",
   "execution_count": 2,
   "id": "236b7c52",
   "metadata": {},
   "outputs": [],
   "source": [
    "import pandas as pd\n",
    "import numpy as np\n",
    "from sklearn.preprocessing import LabelBinarizer\n",
    "from tensorflow.keras.preprocessing.image import ImageDataGenerator\n",
    "from sklearn import svm\n",
    "from sklearn.metrics import accuracy_score"
   ]
  },
  {
   "cell_type": "code",
   "execution_count": 3,
   "id": "3ad79030",
   "metadata": {},
   "outputs": [],
   "source": [
    "train_df = pd.read_csv(r'C:\\Users\\Gabriel Benga\\OneDrive\\Documentos\\python--TCC\\TCC\\tensoflow e libras\\Imagens ASL - american sign  lgn\\imagen treinio e teste\\sign_mnist_train.csv')\n",
    "test_df = pd.read_csv(r'C:\\Users\\Gabriel Benga\\OneDrive\\Documentos\\python--TCC\\TCC\\tensoflow e libras\\Imagens ASL - american sign  lgn\\imagen treinio e teste\\sign_mnist_test.csv')"
   ]
  },
  {
   "cell_type": "markdown",
   "id": "102ebfbd",
   "metadata": {},
   "source": [
    "#### Explicando dataset"
   ]
  },
  {
   "cell_type": "markdown",
   "id": "8bafa990",
   "metadata": {},
   "source": [
    "A primeira coluna é o rótulo da imagem, que indica o sinal de Libras que a imagem representa.\n",
    "As colunas subsequentes (pixel1 a pixel784) contêm os valores dos pixels da imagem em escala de cinza (valores de 0 a 255), onde cada imagem é de 28x28 pixels.\n"
   ]
  },
  {
   "cell_type": "code",
   "execution_count": 4,
   "id": "3e81b0a3",
   "metadata": {},
   "outputs": [
    {
     "data": {
      "text/plain": [
       "(   label  pixel1  pixel2  pixel3  pixel4  pixel5  pixel6  pixel7  pixel8  \\\n",
       " 0      3     107     118     127     134     139     143     146     150   \n",
       " 1      6     155     157     156     156     156     157     156     158   \n",
       " 2      2     187     188     188     187     187     186     187     188   \n",
       " 3      2     211     211     212     212     211     210     211     210   \n",
       " 4     13     164     167     170     172     176     179     180     184   \n",
       " \n",
       "    pixel9  ...  pixel775  pixel776  pixel777  pixel778  pixel779  pixel780  \\\n",
       " 0     153  ...       207       207       207       207       206       206   \n",
       " 1     158  ...        69       149       128        87        94       163   \n",
       " 2     187  ...       202       201       200       199       198       199   \n",
       " 3     210  ...       235       234       233       231       230       226   \n",
       " 4     185  ...        92       105       105       108       133       163   \n",
       " \n",
       "    pixel781  pixel782  pixel783  pixel784  \n",
       " 0       206       204       203       202  \n",
       " 1       175       103       135       149  \n",
       " 2       198       195       194       195  \n",
       " 3       225       222       229       163  \n",
       " 4       157       163       164       179  \n",
       " \n",
       " [5 rows x 785 columns],\n",
       "    label  pixel1  pixel2  pixel3  pixel4  pixel5  pixel6  pixel7  pixel8  \\\n",
       " 0      6     149     149     150     150     150     151     151     150   \n",
       " 1      5     126     128     131     132     133     134     135     135   \n",
       " 2     10      85      88      92      96     105     123     135     143   \n",
       " 3      0     203     205     207     206     207     209     210     209   \n",
       " 4      3     188     191     193     195     199     201     202     203   \n",
       " \n",
       "    pixel9  ...  pixel775  pixel776  pixel777  pixel778  pixel779  pixel780  \\\n",
       " 0     151  ...       138       148       127        89        82        96   \n",
       " 1     136  ...        47       104       194       183       186       184   \n",
       " 2     147  ...        68       166       242       227       230       227   \n",
       " 3     210  ...       154       248       247       248       253       236   \n",
       " 4     203  ...        26        40        64        48        29        46   \n",
       " \n",
       "    pixel781  pixel782  pixel783  pixel784  \n",
       " 0       106       112       120       107  \n",
       " 1       184       184       182       180  \n",
       " 2       226       225       224       222  \n",
       " 3       230       240       253       255  \n",
       " 4        49        46        46        53  \n",
       " \n",
       " [5 rows x 785 columns])"
      ]
     },
     "execution_count": 4,
     "metadata": {},
     "output_type": "execute_result"
    }
   ],
   "source": [
    "# visualizando os dados para verificar s foi carregado com sucesso.\n",
    "train_df.head(), test_df.head()"
   ]
  },
  {
   "cell_type": "markdown",
   "id": "23b80012",
   "metadata": {},
   "source": [
    "#### Agora, vamos para o pré-processamento de dados. As etapas envolverão:"
   ]
  },
  {
   "cell_type": "markdown",
   "id": "d1b2e392",
   "metadata": {},
   "source": [
    "Separar os rótulos dos dados de imagem.\n",
    "Redimensionar as imagens para o formato 28x28 para que possamos processá-las como imagens em vez de um vetor plano.\n",
    "Normalizar os valores dos pixels para o intervalo [0, 1], o que pode ajudar na convergência do treinamento do modelo.\n",
    "Aumentar o contraste, se necessário, embora isso possa não ser necessário se as imagens já tiverem um contraste adequado"
   ]
  },
  {
   "cell_type": "code",
   "execution_count": 5,
   "id": "5de41f0b",
   "metadata": {},
   "outputs": [],
   "source": [
    "def preprocess_data_without_tensorflow(df):\n",
    "    y = df['label'].values\n",
    "    X = df.drop('label', axis=1).values\n",
    "    X = X / 255.0  # Normalization\n",
    "    X = X.reshape(-1, 28, 28, 1)  # Reshaping\n",
    "    lb = LabelBinarizer()\n",
    "    y = lb.fit_transform(y)  # One-hot encoding\n",
    "    return X, y\n",
    "\n",
    "X_train, y_train = preprocess_data_without_tensorflow(train_df)\n",
    "X_test, y_test = preprocess_data_without_tensorflow(test_df)"
   ]
  },
  {
   "cell_type": "markdown",
   "id": "107ce857",
   "metadata": {},
   "source": [
    "### Treinamento do modelo SVM"
   ]
  },
  {
   "cell_type": "code",
   "execution_count": 6,
   "id": "92a5e0af",
   "metadata": {},
   "outputs": [
    {
     "data": {
      "text/plain": [
       "SVC(kernel='linear')"
      ]
     },
     "execution_count": 6,
     "metadata": {},
     "output_type": "execute_result"
    }
   ],
   "source": [
    "clf = svm.SVC(kernel='linear')\n",
    "X_train_flat = X_train.reshape(X_train.shape[0], -1)\n",
    "X_test_flat = X_test.reshape(X_test.shape[0], -1)\n",
    "clf.fit(X_train_flat, y_train.argmax(axis=1))"
   ]
  },
  {
   "cell_type": "markdown",
   "id": "fcd2e1ed",
   "metadata": {},
   "source": [
    "### Avaliando modelo"
   ]
  },
  {
   "cell_type": "code",
   "execution_count": 8,
   "id": "0e16048e",
   "metadata": {},
   "outputs": [
    {
     "data": {
      "text/plain": [
       "0.7861126603457892"
      ]
     },
     "execution_count": 8,
     "metadata": {},
     "output_type": "execute_result"
    }
   ],
   "source": [
    "# A precisão do modelo foi:\n",
    "accuracy  # 0.7861126603457892"
   ]
  },
  {
   "cell_type": "code",
   "execution_count": null,
   "id": "7f928f5e",
   "metadata": {},
   "outputs": [],
   "source": []
  }
 ],
 "metadata": {
  "kernelspec": {
   "display_name": "Python 3 (ipykernel)",
   "language": "python",
   "name": "python3"
  },
  "language_info": {
   "codemirror_mode": {
    "name": "ipython",
    "version": 3
   },
   "file_extension": ".py",
   "mimetype": "text/x-python",
   "name": "python",
   "nbconvert_exporter": "python",
   "pygments_lexer": "ipython3",
   "version": "3.9.12"
  }
 },
 "nbformat": 4,
 "nbformat_minor": 5
}
